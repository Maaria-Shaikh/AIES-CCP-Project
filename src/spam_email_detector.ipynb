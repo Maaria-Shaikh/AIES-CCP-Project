{
 "cells": [
  {
   "cell_type": "markdown",
   "id": "cffa71e0-7865-46cb-9e23-1309d4f3794c",
   "metadata": {},
   "source": [
    "Spam Email Detector using Machine Learning\n",
    "Course: CT-361: Artificial Intelligence & Expert System  \n",
    "Project Type: AIES CCP Project — Spring 2025  \n",
    "Developed By:\n",
    "Maaria Shaikh – [CT -22019]\n",
    "---\n",
    "\n",
    "This project demonstrates the use of machine learning techniques to automatically classify emails as *Spam* or *Not Spam (Ham)* using Natural Language Processing and a Naive Bayes classifier. The goal is to reduce the risk of phishing attacks, scams, and spam overload in digital communication."
   ]
  },
  {
   "cell_type": "code",
   "execution_count": null,
   "id": "b2c9f9c4-928c-44ef-af95-1af2b081c533",
   "metadata": {},
   "outputs": [],
   "source": [
    "# Importing necessary libraries\n",
    "import pandas as pd\n",
    "import numpy as np\n",
    "import seaborn as sns\n",
    "import matplotlib.pyplot as plt\n",
    "\n",
    "# For preprocessing\n",
    "import string\n",
    "import nltk\n",
    "from nltk.corpus import stopwords\n",
    "from sklearn.model_selection import train_test_split\n",
    "\n",
    "# For vectorizing text\n",
    "from sklearn.feature_extraction.text import CountVectorizer\n",
    "\n",
    "# Machine learning model\n",
    "from sklearn.naive_bayes import MultinomialNB\n",
    "from sklearn.metrics import confusion_matrix, accuracy_score, classification_report"
   ]
  },
  {
   "cell_type": "code",
   "execution_count": null,
   "id": "f96b929d-2c5c-4ee3-9601-f1bf95247f94",
   "metadata": {},
   "outputs": [],
   "source": [
    "nltk.download('stopwords')"
   ]
  },
  {
   "cell_type": "code",
   "execution_count": null,
   "id": "209b55af-c021-48b1-a20e-1f80d1ab5943",
   "metadata": {},
   "outputs": [],
   "source": [
    "import pandas as pd\n",
    "\n",
    "# Load working spam/ham dataset (SMS messages)\n",
    "df = pd.read_csv(\"https://raw.githubusercontent.com/justmarkham/pycon-2016-tutorial/master/data/sms.tsv\", \n",
    "                 sep='\\t', \n",
    "                 header=None, \n",
    "                 names=['label', 'message'])\n",
    "\n",
    "# Show first 5 rows to verify data loaded properly\n",
    "df.head()"
   ]
  },
  {
   "cell_type": "code",
   "execution_count": null,
   "id": "b250d35f-44a3-4648-9e54-afdb5053e639",
   "metadata": {},
   "outputs": [],
   "source": [
    "print(df.info())\n",
    "print(df['label'].value_counts())\n",
    "\n",
    "sns.countplot(x='label', data=df)\n",
    "plt.title(\"Class Distribution: Ham vs Spam\")\n",
    "plt.show()"
   ]
  },
  {
   "cell_type": "code",
   "execution_count": null,
   "id": "9bb106d5-7d96-4e6d-bf1b-a9b1bf054613",
   "metadata": {},
   "outputs": [],
   "source": [
    "nltk.download('stopwords')\n",
    "\n",
    "def preprocess(text):\n",
    "    text = text.lower()\n",
    "    text = ''.join([char for char in text if char not in string.punctuation])\n",
    "    words = text.split()\n",
    "    stop_words = stopwords.words('english')\n",
    "    return ' '.join([word for word in words if word not in stop_words])\n",
    "\n",
    "df['cleaned'] = df['message'].apply(preprocess)\n",
    "df.head()"
   ]
  },
  {
   "cell_type": "code",
   "execution_count": null,
   "id": "a238d84c-87a0-4ec0-80b5-1d7d63c3998f",
   "metadata": {},
   "outputs": [],
   "source": [
    "df['clean_message'] = df['message'].apply(preprocess_text)\n",
    "df.head()"
   ]
  },
  {
   "cell_type": "code",
   "execution_count": null,
   "id": "c5c4980e-01ed-4842-89e8-83a597b81d76",
   "metadata": {},
   "outputs": [],
   "source": [
    "df['label_num'] = df['label'].map({'ham': 0, 'spam': 1})\n",
    "df.head()"
   ]
  },
  {
   "cell_type": "code",
   "execution_count": null,
   "id": "5c859837-4235-44b4-aebf-ee039d4f00a1",
   "metadata": {},
   "outputs": [],
   "source": [
    "print(df.info())\n",
    "print(df['label'].value_counts())\n",
    "\n",
    "sns.countplot(x='label', data=df)\n",
    "plt.title(\"Class Distribution: Ham vs Spam\")\n",
    "plt.show()X = df['clean_message']\n",
    "y = df['label_num']\n",
    "\n",
    "X_train, X_test, y_train, y_test = train_test_split(\n",
    "    X, y, test_size=0.2, random_state=42\n",
    ")"
   ]
  },
  {
   "cell_type": "code",
   "execution_count": null,
   "id": "f7420cef",
   "metadata": {},
   "outputs": [],
   "source": []
  },
  {
   "cell_type": "code",
   "execution_count": null,
   "id": "dbe1bea3-13a5-4295-adaf-f32eebf1cdf8",
   "metadata": {},
   "outputs": [],
   "source": [
    "vectorizer = CountVectorizer()\n",
    "X_train_counts = vectorizer.fit_transform(X_train)\n",
    "X_test_counts = vectorizer.transform(X_test)\n"
   ]
  },
  {
   "cell_type": "code",
   "execution_count": null,
   "id": "58446e7b-634a-42e6-a00d-0e44ad6fe143",
   "metadata": {},
   "outputs": [],
   "source": [
    "clf = MultinomialNB()\n",
    "clf.fit(X_train_counts, y_train)"
   ]
  },
  {
   "cell_type": "code",
   "execution_count": null,
   "id": "ac28b375-0aaa-493b-ac70-b1ceb0525488",
   "metadata": {},
   "outputs": [],
   "source": [
    "y_pred = clf.predict(X_test_counts)\n",
    "\n",
    "print(\"Accuracy:\", accuracy_score(y_test, y_pred))\n",
    "print(\"\\nClassification Report:\\n\", classification_report(y_test, y_pred))\n",
    "\n",
    "cm = confusion_matrix(y_test, y_pred)\n",
    "sns.heatmap(cm, annot=True, fmt='d', cmap='Blues', xticklabels=['Ham', 'Spam'], yticklabels=['Ham', 'Spam'])\n",
    "plt.xlabel('Predicted')\n",
    "plt.ylabel('Actual')\n",
    "plt.title('Confusion Matrix')\n",
    "plt.show()"
   ]
  },
  {
   "cell_type": "code",
   "execution_count": null,
   "id": "1f97169f-3582-4c3d-9030-fb1ff26a5c09",
   "metadata": {},
   "outputs": [],
   "source": [
    "test_messages = [\n",
    "    \"Congratulations! You won a free ticket.\",\n",
    "    \"Hey, are we still meeting for lunch today?\",\n",
    "    \"URGENT! Your account has been compromised. Call now!\"\n",
    "]\n",
    "\n",
    "test_counts = vectorizer.transform(test_messages)\n",
    "predictions = clf.predict(test_counts)\n",
    "\n",
    "for msg, pred in zip(test_messages, predictions):\n",
    "    label = 'Spam' if pred == 1 else 'Ham'\n",
    "    print(f\"Message: {msg}\\nPredicted label: {label}\\n\")"
   ]
  },
  {
   "cell_type": "code",
   "execution_count": null,
   "id": "9abc734f-58b7-454a-96bc-91ebfd15be57",
   "metadata": {},
   "outputs": [],
   "source": []
  }
 ],
 "metadata": {
  "kernelspec": {
   "display_name": "Python 3 (ipykernel)",
   "language": "python",
   "name": "python3"
  },
  "language_info": {
   "codemirror_mode": {
    "name": "ipython",
    "version": 3
   },
   "file_extension": ".py",
   "mimetype": "text/x-python",
   "name": "python",
   "nbconvert_exporter": "python",
   "pygments_lexer": "ipython3",
   "version": "3.12.7"
  }
 },
 "nbformat": 4,
 "nbformat_minor": 5
}
